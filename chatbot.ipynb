{
 "cells": [
  {
   "cell_type": "code",
   "execution_count": 3,
   "id": "0cec7214-0756-46d0-9d8c-b5349b85faad",
   "metadata": {},
   "outputs": [],
   "source": [
    "import pandas as pd\n",
    "import numpy as np\n",
    "import string\n",
    "from sklearn.feature_extraction.text import TfidfVectorizer\n",
    "from sklearn.metrics.pairwise import cosine_similarity\n",
    "import random\n",
    "import re\n"
   ]
  },
  {
   "cell_type": "code",
   "execution_count": 6,
   "id": "398445a6-447d-4578-9dfc-f9cd54846115",
   "metadata": {},
   "outputs": [
    {
     "name": "stdout",
     "output_type": "stream",
     "text": [
      "             question                                             answer\n",
      "0               Hello  Hi there! How can I assist you today? I can an...\n",
      "1        How are you?  I'm just a bot, but I'm doing great! How about...\n",
      "2  What is your name?  I'm a chatbot designed to answer your queries....\n",
      "3    Who created you?  I was created by a developer who loves AI and ...\n",
      "4      Tell me a joke  Sure! Here's a joke for you: Why don’t scienti...\n"
     ]
    }
   ],
   "source": [
    "# Load the dataset\n",
    "df = pd.read_csv(\"chatbot_dataset_extended.csv\")\n",
    "\n",
    "# Display the first few rows\n",
    "print(df.head())"
   ]
  },
  {
   "cell_type": "code",
   "execution_count": 7,
   "id": "e9d0e218-dde3-43a0-a3e5-a4fce1149d91",
   "metadata": {},
   "outputs": [],
   "source": [
    "def clean_text(text):\n",
    "    text = text.lower()  # Convert to lowercase\n",
    "    text = re.sub(r'\\[.*?\\]', '', text)  # Remove text inside brackets\n",
    "    text = re.sub(r'https?://\\S+|www\\.\\S+', '', text)  # Remove URLs\n",
    "    text = text.translate(str.maketrans('', '', string.punctuation))  # Remove punctuation\n",
    "    return text.strip()\n",
    "\n",
    "# Apply text cleaning to dataset\n",
    "df[\"question\"] = df[\"question\"].apply(clean_text)\n",
    "df[\"answer\"] = df[\"answer\"].apply(clean_text)\n"
   ]
  },
  {
   "cell_type": "code",
   "execution_count": 8,
   "id": "add51b7f-e225-49c8-84ac-563fe1de77c3",
   "metadata": {},
   "outputs": [],
   "source": [
    "# Initialize TF-IDF Vectorizer\n",
    "vectorizer = TfidfVectorizer()\n",
    "\n",
    "# Fit and transform questions\n",
    "X = vectorizer.fit_transform(df[\"question\"])\n"
   ]
  },
  {
   "cell_type": "code",
   "execution_count": 9,
   "id": "1781536c-23eb-4d63-975c-dc0f37290905",
   "metadata": {},
   "outputs": [],
   "source": [
    "def chatbot_response(user_input):\n",
    "    user_input = clean_text(user_input)  # Clean user input\n",
    "    user_vec = vectorizer.transform([user_input])  # Convert input to vector\n",
    "\n",
    "    # Compute cosine similarity\n",
    "    similarity_scores = cosine_similarity(user_vec, X)\n",
    "    \n",
    "    # Find the most similar question\n",
    "    best_match_index = np.argmax(similarity_scores)\n",
    "\n",
    "    # Check if similarity is above threshold\n",
    "    if similarity_scores[0, best_match_index] > 0.2:  # Adjust threshold as needed\n",
    "        return df.iloc[best_match_index][\"answer\"]\n",
    "    else:\n",
    "        return \"I'm sorry, I don't understand. Can you rephrase your question?\"\n"
   ]
  },
  {
   "cell_type": "code",
   "execution_count": null,
   "id": "3f814a80-b77a-48f9-b613-d09c613c9c49",
   "metadata": {},
   "outputs": [
    {
     "name": "stdout",
     "output_type": "stream",
     "text": [
      "Chatbot: Hello! Ask me anything. Type 'exit' to end.\n"
     ]
    },
    {
     "name": "stdin",
     "output_type": "stream",
     "text": [
      "You:  how are you\n"
     ]
    },
    {
     "name": "stdout",
     "output_type": "stream",
     "text": [
      "Chatbot: im just a bot but im doing great how about you if you need any help feel free to ask\n"
     ]
    },
    {
     "name": "stdin",
     "output_type": "stream",
     "text": [
      "You:  please suggest some songs\n"
     ]
    },
    {
     "name": "stdout",
     "output_type": "stream",
     "text": [
      "Chatbot: I'm sorry, I don't understand. Can you rephrase your question?\n"
     ]
    }
   ],
   "source": [
    "print(\"Chatbot: Hello! Ask me anything. Type 'exit' to end.\")\n",
    "\n",
    "while True:\n",
    "    user_input = input(\"You: \")\n",
    "    \n",
    "    if user_input.lower() == \"exit\":\n",
    "        print(\"Chatbot: Goodbye! Have a great day!\")\n",
    "        break\n",
    "    \n",
    "    response = chatbot_response(user_input)\n",
    "    print(\"Chatbot:\", response)\n"
   ]
  },
  {
   "cell_type": "code",
   "execution_count": null,
   "id": "4dbeb340-9c07-4427-947f-31ab1169aacc",
   "metadata": {},
   "outputs": [],
   "source": []
  }
 ],
 "metadata": {
  "kernelspec": {
   "display_name": "Python 3 (ipykernel)",
   "language": "python",
   "name": "python3"
  },
  "language_info": {
   "codemirror_mode": {
    "name": "ipython",
    "version": 3
   },
   "file_extension": ".py",
   "mimetype": "text/x-python",
   "name": "python",
   "nbconvert_exporter": "python",
   "pygments_lexer": "ipython3",
   "version": "3.11.9"
  }
 },
 "nbformat": 4,
 "nbformat_minor": 5
}
